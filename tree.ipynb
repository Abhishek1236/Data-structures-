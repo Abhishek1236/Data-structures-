{
  "nbformat": 4,
  "nbformat_minor": 0,
  "metadata": {
    "colab": {
      "name": "tree.ipynb",
      "provenance": [],
      "authorship_tag": "ABX9TyOyCvfC/7O8wT8C1QqOyJPD",
      "include_colab_link": true
    },
    "kernelspec": {
      "name": "python3",
      "display_name": "Python 3"
    },
    "language_info": {
      "name": "python"
    }
  },
  "cells": [
    {
      "cell_type": "markdown",
      "metadata": {
        "id": "view-in-github",
        "colab_type": "text"
      },
      "source": [
        "<a href=\"https://colab.research.google.com/github/Abhishek1236/Data-structures-/blob/main/tree.ipynb\" target=\"_parent\"><img src=\"https://colab.research.google.com/assets/colab-badge.svg\" alt=\"Open In Colab\"/></a>"
      ]
    },
    {
      "cell_type": "markdown",
      "metadata": {
        "id": "wirulaTOTmZP"
      },
      "source": [
        "# Normal Tree"
      ]
    },
    {
      "cell_type": "code",
      "metadata": {
        "id": "PAH4r2MTBm0d"
      },
      "source": [
        "class Tree:\n",
        "  def __init__(self,data):\n",
        "    self.data = data\n",
        "    self.child = []\n",
        "    self.parent = None\n",
        "# function for adding child to a tree\n",
        "\n",
        "  def add_child(self,child):\n",
        "    child.parent = self\n",
        "    self.child.append(child)\n",
        "\n",
        "  def get_level(self):\n",
        "    level = 0\n",
        "    p = self.parent\n",
        "    while p:\n",
        "      level += 1\n",
        "      p = p.parent\n",
        "    return level\n",
        "\n",
        "\n",
        "  def print_tree(self):\n",
        "    level = self.get_level()\n",
        "    spaces = \" \" *2* level\n",
        "    print(spaces + self.data)\n",
        "    if self.child:\n",
        "      for child in self.child:\n",
        "        child.print_tree()\n",
        "        \n",
        "# lets build a tree\n",
        "def build_tree():\n",
        "  root = Tree(\"Electronics\")\n",
        "  laptop = Tree(\"laptop\")\n",
        "  root.add_child(laptop)\n",
        "  return root"
      ],
      "execution_count": 21,
      "outputs": []
    },
    {
      "cell_type": "code",
      "metadata": {
        "colab": {
          "base_uri": "https://localhost:8080/"
        },
        "id": "EiwKATRVCRIo",
        "outputId": "223a65ee-197a-4e53-cc4b-bcb7d28e50c7"
      },
      "source": [
        "if __name__ == \"__main__\":\n",
        "  root = build_tree()\n",
        "  root.print_tree()"
      ],
      "execution_count": 22,
      "outputs": [
        {
          "output_type": "stream",
          "text": [
            "Electronics\n",
            "  laptop\n"
          ],
          "name": "stdout"
        }
      ]
    },
    {
      "cell_type": "markdown",
      "metadata": {
        "id": "xn223eBUTiKi"
      },
      "source": [
        "# Binary Search Tree"
      ]
    },
    {
      "cell_type": "code",
      "metadata": {
        "colab": {
          "base_uri": "https://localhost:8080/"
        },
        "id": "Chybc58ADMOy",
        "outputId": "44b7224b-041f-4a2d-ac6f-a5d2d60d1f0b"
      },
      "source": [
        "class Binarysearchtree:\n",
        "\n",
        "  def __init__(self,data):\n",
        "    self.data = data\n",
        "    self.right = None\n",
        "    self.left = None\n",
        "\n",
        "# adding child to a binary search Tree\n",
        "  def add_child(self,data):\n",
        "    if data == self.data:\n",
        "      return \n",
        "    if data < self.data:\n",
        "      #left subtree\n",
        "      if self.left:\n",
        "        self.left.add_child(data)\n",
        "      else:\n",
        "        self.left = Binarysearchtree(data)\n",
        "    else:\n",
        "      #right subtree\n",
        "      if self.right:\n",
        "        self.right.add_child(data)\n",
        "      else:\n",
        "        self.right = Binarysearchtree(data)\n",
        "# Inorder traversal :-> (left -> Node -> Right)\n",
        "  def inorder_traversal(self):\n",
        "    elements = []\n",
        "    # visit left tree\n",
        "    if self.left:\n",
        "      elements += self.left.inorder_traversal()\n",
        "    # visit base node \n",
        "    elements.append(self.data)\n",
        "    #visit the right node\n",
        "    if self.right:\n",
        "      elements += self.right.inorder_traversal()\n",
        "    return elements\n",
        "# Searching a Value in Binary Search Tree\n",
        "  def search(self,val):\n",
        "    if self.data == val:\n",
        "      return True\n",
        "    if val < self.data:\n",
        "      if self.left:\n",
        "        return self.left.search(val)\n",
        "      else:\n",
        "        return False\n",
        "    if val > self.data:\n",
        "      if self.right:\n",
        "        return self.right.search(val)\n",
        "      else:\n",
        "        return False\n",
        "\n",
        "# finding maximum in a Binary tree\n",
        "  def find_max(self):\n",
        "    if self.right is None:\n",
        "      return self.data\n",
        "    else:\n",
        "      return self.right.find_max()\n",
        "\n",
        "# finding minimun in a binary tree\n",
        "  def find_min(self):\n",
        "    if self.left is None:\n",
        "      return self.data\n",
        "    else:\n",
        "      return self.left.find_min()\n",
        "\n",
        "\n",
        "\n",
        "\n",
        "# Deleting a node in a binary search Tree\n",
        "  def delete(self,val):\n",
        "    if val < self.data:\n",
        "      if self.left:\n",
        "        self.left = self.left.delete(val)\n",
        "    elif val > self.data:\n",
        "      if self.right:\n",
        "        self.right = self.right.delete(val)\n",
        "    else:\n",
        "      if self.left is None and self.right is None:\n",
        "        return  None \n",
        "      elif self.left is None :\n",
        "        return self.right\n",
        "      elif self.right is None:\n",
        "        return self.right \n",
        "\n",
        "      min_val = self.right.find_min()\n",
        "      self.data = min_val\n",
        "      self.right = self.right.delete(min_val)\n",
        "      return self\n",
        "\n",
        "\n",
        "\n",
        "\n",
        "\n",
        "def build_tree(elements):\n",
        "  root = Binarysearchtree(elements[0])\n",
        "\n",
        "  for i in range(len(elements)):\n",
        "    root.add_child(elements[i])\n",
        "\n",
        "  return root\n",
        "\n",
        "if __name__ == \"__main__\":\n",
        "  elements = [1,2,3,4,6,7,3,1,3,4]\n",
        "  tree = build_tree(elements)\n",
        "  inorder = tree.inorder_traversal()\n",
        "  print(inorder)\n",
        "  print(tree.search(3))\n",
        "  tree1 = tree.delete(1)\n",
        "  inorder = tree1.inorder_traversal()\n",
        "  print(inorder)\n",
        "\n",
        "\n",
        "\n",
        "\n",
        "\n"
      ],
      "execution_count": 10,
      "outputs": [
        {
          "output_type": "stream",
          "text": [
            "[1, 2, 3, 4, 6, 7]\n",
            "True\n",
            "[2, 3, 4, 6, 7]\n"
          ],
          "name": "stdout"
        }
      ]
    },
    {
      "cell_type": "code",
      "metadata": {
        "id": "TyDZeGJpjOkA"
      },
      "source": [
        ""
      ],
      "execution_count": null,
      "outputs": []
    }
  ]
}